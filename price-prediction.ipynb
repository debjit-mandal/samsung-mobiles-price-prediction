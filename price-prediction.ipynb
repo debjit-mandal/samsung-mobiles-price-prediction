{
 "cells": [
  {
   "cell_type": "code",
   "execution_count": 1,
   "metadata": {
    "execution": {
     "iopub.execute_input": "2023-08-13T19:12:06.569862Z",
     "iopub.status.busy": "2023-08-13T19:12:06.569437Z",
     "iopub.status.idle": "2023-08-13T19:12:06.576596Z",
     "shell.execute_reply": "2023-08-13T19:12:06.575534Z",
     "shell.execute_reply.started": "2023-08-13T19:12:06.569822Z"
    }
   },
   "outputs": [],
   "source": [
    "import pandas as pd\n",
    "import numpy as np\n",
    "import matplotlib.pyplot as plt\n",
    "import seaborn as sn\n",
    "%matplotlib inline"
   ]
  },
  {
   "cell_type": "code",
   "execution_count": 2,
   "metadata": {
    "execution": {
     "iopub.execute_input": "2023-08-13T19:12:06.578383Z",
     "iopub.status.busy": "2023-08-13T19:12:06.577964Z",
     "iopub.status.idle": "2023-08-13T19:12:06.637086Z",
     "shell.execute_reply": "2023-08-13T19:12:06.635862Z",
     "shell.execute_reply.started": "2023-08-13T19:12:06.578345Z"
    }
   },
   "outputs": [
    {
     "data": {
      "text/html": [
       "<div>\n",
       "<style scoped>\n",
       "    .dataframe tbody tr th:only-of-type {\n",
       "        vertical-align: middle;\n",
       "    }\n",
       "\n",
       "    .dataframe tbody tr th {\n",
       "        vertical-align: top;\n",
       "    }\n",
       "\n",
       "    .dataframe thead th {\n",
       "        text-align: right;\n",
       "    }\n",
       "</style>\n",
       "<table border=\"1\" class=\"dataframe\">\n",
       "  <thead>\n",
       "    <tr style=\"text-align: right;\">\n",
       "      <th></th>\n",
       "      <th>name</th>\n",
       "      <th>ratings</th>\n",
       "      <th>price</th>\n",
       "      <th>imgURL</th>\n",
       "      <th>camera</th>\n",
       "      <th>display</th>\n",
       "      <th>battery</th>\n",
       "      <th>storage</th>\n",
       "      <th>ram</th>\n",
       "      <th>processor</th>\n",
       "      <th>android_version</th>\n",
       "    </tr>\n",
       "  </thead>\n",
       "  <tbody>\n",
       "    <tr>\n",
       "      <th>0</th>\n",
       "      <td>SAMSUNG Galaxy F13 (Sunrise Copper, 64 GB)</td>\n",
       "      <td>4.3</td>\n",
       "      <td>9499</td>\n",
       "      <td>https://rukminim2.flixcart.com/image/312/312/x...</td>\n",
       "      <td>50</td>\n",
       "      <td>other_types</td>\n",
       "      <td>6000</td>\n",
       "      <td>64</td>\n",
       "      <td>4</td>\n",
       "      <td>not mentioned</td>\n",
       "      <td>12</td>\n",
       "    </tr>\n",
       "    <tr>\n",
       "      <th>1</th>\n",
       "      <td>SAMSUNG Galaxy F13 (Waterfall Blue, 128 GB)</td>\n",
       "      <td>4.3</td>\n",
       "      <td>10499</td>\n",
       "      <td>https://rukminim2.flixcart.com/image/312/312/x...</td>\n",
       "      <td>50</td>\n",
       "      <td>other_types</td>\n",
       "      <td>6000</td>\n",
       "      <td>128</td>\n",
       "      <td>4</td>\n",
       "      <td>not mentioned</td>\n",
       "      <td>12</td>\n",
       "    </tr>\n",
       "    <tr>\n",
       "      <th>2</th>\n",
       "      <td>SAMSUNG Galaxy F13 (Nightsky Green, 128 GB)</td>\n",
       "      <td>4.3</td>\n",
       "      <td>10499</td>\n",
       "      <td>https://rukminim2.flixcart.com/image/312/312/x...</td>\n",
       "      <td>50</td>\n",
       "      <td>other_types</td>\n",
       "      <td>6000</td>\n",
       "      <td>128</td>\n",
       "      <td>4</td>\n",
       "      <td>not mentioned</td>\n",
       "      <td>12</td>\n",
       "    </tr>\n",
       "    <tr>\n",
       "      <th>3</th>\n",
       "      <td>SAMSUNG Galaxy F13 (Sunrise Copper, 128 GB)</td>\n",
       "      <td>4.3</td>\n",
       "      <td>10499</td>\n",
       "      <td>https://rukminim2.flixcart.com/image/312/312/x...</td>\n",
       "      <td>50</td>\n",
       "      <td>other_types</td>\n",
       "      <td>6000</td>\n",
       "      <td>128</td>\n",
       "      <td>4</td>\n",
       "      <td>not mentioned</td>\n",
       "      <td>12</td>\n",
       "    </tr>\n",
       "    <tr>\n",
       "      <th>4</th>\n",
       "      <td>SAMSUNG Galaxy F23 5G (Aqua Blue, 128 GB)</td>\n",
       "      <td>4.3</td>\n",
       "      <td>15499</td>\n",
       "      <td>https://rukminim2.flixcart.com/image/312/312/x...</td>\n",
       "      <td>50</td>\n",
       "      <td>other_types</td>\n",
       "      <td>5000</td>\n",
       "      <td>128</td>\n",
       "      <td>6</td>\n",
       "      <td>Snapdragon750GProcessor</td>\n",
       "      <td>12</td>\n",
       "    </tr>\n",
       "    <tr>\n",
       "      <th>...</th>\n",
       "      <td>...</td>\n",
       "      <td>...</td>\n",
       "      <td>...</td>\n",
       "      <td>...</td>\n",
       "      <td>...</td>\n",
       "      <td>...</td>\n",
       "      <td>...</td>\n",
       "      <td>...</td>\n",
       "      <td>...</td>\n",
       "      <td>...</td>\n",
       "      <td>...</td>\n",
       "    </tr>\n",
       "    <tr>\n",
       "      <th>402</th>\n",
       "      <td>SAMSUNG Galaxy M40 (Seawater Blue, 128 GB)</td>\n",
       "      <td>4.5</td>\n",
       "      <td>21490</td>\n",
       "      <td>https://rukminim2.flixcart.com/image/312/312/k...</td>\n",
       "      <td>32</td>\n",
       "      <td>other_types</td>\n",
       "      <td>3500</td>\n",
       "      <td>128</td>\n",
       "      <td>6</td>\n",
       "      <td>not mentioned</td>\n",
       "      <td>9</td>\n",
       "    </tr>\n",
       "    <tr>\n",
       "      <th>403</th>\n",
       "      <td>SAMSUNG Galaxy A30s (Prism Crush Violet, 64 GB)</td>\n",
       "      <td>4.3</td>\n",
       "      <td>16199</td>\n",
       "      <td>https://rukminim2.flixcart.com/image/312/312/k...</td>\n",
       "      <td>25</td>\n",
       "      <td>other_types</td>\n",
       "      <td>4000</td>\n",
       "      <td>64</td>\n",
       "      <td>4</td>\n",
       "      <td>not mentioned</td>\n",
       "      <td>12</td>\n",
       "    </tr>\n",
       "    <tr>\n",
       "      <th>404</th>\n",
       "      <td>SAMSUNG Galaxy J4 Plus (Black, 32 GB)</td>\n",
       "      <td>4.4</td>\n",
       "      <td>9000</td>\n",
       "      <td>https://rukminim2.flixcart.com/image/312/312/j...</td>\n",
       "      <td>13</td>\n",
       "      <td>other_types</td>\n",
       "      <td>3300</td>\n",
       "      <td>32</td>\n",
       "      <td>2</td>\n",
       "      <td>Snapdragon425P</td>\n",
       "      <td>8</td>\n",
       "    </tr>\n",
       "    <tr>\n",
       "      <th>405</th>\n",
       "      <td>SAMSUNG Galaxy M01s (Gray, 32 GB)</td>\n",
       "      <td>4.2</td>\n",
       "      <td>10999</td>\n",
       "      <td>https://rukminim2.flixcart.com/image/312/312/k...</td>\n",
       "      <td>13</td>\n",
       "      <td>other_types</td>\n",
       "      <td>4000</td>\n",
       "      <td>32</td>\n",
       "      <td>3</td>\n",
       "      <td>MediaTek</td>\n",
       "      <td>9</td>\n",
       "    </tr>\n",
       "    <tr>\n",
       "      <th>406</th>\n",
       "      <td>SAMSUNG Galaxy S22 (Pink Gold, 128 GB)</td>\n",
       "      <td>4.2</td>\n",
       "      <td>20463</td>\n",
       "      <td>https://rukminim2.flixcart.com/image/312/312/x...</td>\n",
       "      <td>50</td>\n",
       "      <td>other_types</td>\n",
       "      <td>3700</td>\n",
       "      <td>128</td>\n",
       "      <td>8</td>\n",
       "      <td>not mentioned</td>\n",
       "      <td>12</td>\n",
       "    </tr>\n",
       "  </tbody>\n",
       "</table>\n",
       "<p>407 rows × 11 columns</p>\n",
       "</div>"
      ],
      "text/plain": [
       "                                                name  ratings  price  \\\n",
       "0         SAMSUNG Galaxy F13 (Sunrise Copper, 64 GB)      4.3   9499   \n",
       "1        SAMSUNG Galaxy F13 (Waterfall Blue, 128 GB)      4.3  10499   \n",
       "2        SAMSUNG Galaxy F13 (Nightsky Green, 128 GB)      4.3  10499   \n",
       "3        SAMSUNG Galaxy F13 (Sunrise Copper, 128 GB)      4.3  10499   \n",
       "4          SAMSUNG Galaxy F23 5G (Aqua Blue, 128 GB)      4.3  15499   \n",
       "..                                               ...      ...    ...   \n",
       "402       SAMSUNG Galaxy M40 (Seawater Blue, 128 GB)      4.5  21490   \n",
       "403  SAMSUNG Galaxy A30s (Prism Crush Violet, 64 GB)      4.3  16199   \n",
       "404            SAMSUNG Galaxy J4 Plus (Black, 32 GB)      4.4   9000   \n",
       "405                SAMSUNG Galaxy M01s (Gray, 32 GB)      4.2  10999   \n",
       "406           SAMSUNG Galaxy S22 (Pink Gold, 128 GB)      4.2  20463   \n",
       "\n",
       "                                                imgURL  camera      display  \\\n",
       "0    https://rukminim2.flixcart.com/image/312/312/x...      50  other_types   \n",
       "1    https://rukminim2.flixcart.com/image/312/312/x...      50  other_types   \n",
       "2    https://rukminim2.flixcart.com/image/312/312/x...      50  other_types   \n",
       "3    https://rukminim2.flixcart.com/image/312/312/x...      50  other_types   \n",
       "4    https://rukminim2.flixcart.com/image/312/312/x...      50  other_types   \n",
       "..                                                 ...     ...          ...   \n",
       "402  https://rukminim2.flixcart.com/image/312/312/k...      32  other_types   \n",
       "403  https://rukminim2.flixcart.com/image/312/312/k...      25  other_types   \n",
       "404  https://rukminim2.flixcart.com/image/312/312/j...      13  other_types   \n",
       "405  https://rukminim2.flixcart.com/image/312/312/k...      13  other_types   \n",
       "406  https://rukminim2.flixcart.com/image/312/312/x...      50  other_types   \n",
       "\n",
       "     battery  storage  ram                processor  android_version  \n",
       "0       6000       64    4            not mentioned               12  \n",
       "1       6000      128    4            not mentioned               12  \n",
       "2       6000      128    4            not mentioned               12  \n",
       "3       6000      128    4            not mentioned               12  \n",
       "4       5000      128    6  Snapdragon750GProcessor               12  \n",
       "..       ...      ...  ...                      ...              ...  \n",
       "402     3500      128    6            not mentioned                9  \n",
       "403     4000       64    4            not mentioned               12  \n",
       "404     3300       32    2           Snapdragon425P                8  \n",
       "405     4000       32    3                 MediaTek                9  \n",
       "406     3700      128    8            not mentioned               12  \n",
       "\n",
       "[407 rows x 11 columns]"
      ]
     },
     "execution_count": 2,
     "metadata": {},
     "output_type": "execute_result"
    }
   ],
   "source": [
    "df=pd.read_csv(\"samsungMobilesData.csv\")\n",
    "df"
   ]
  },
  {
   "cell_type": "code",
   "execution_count": 3,
   "metadata": {
    "execution": {
     "iopub.execute_input": "2023-08-13T19:12:06.639678Z",
     "iopub.status.busy": "2023-08-13T19:12:06.639333Z",
     "iopub.status.idle": "2023-08-13T19:12:06.648907Z",
     "shell.execute_reply": "2023-08-13T19:12:06.647897Z",
     "shell.execute_reply.started": "2023-08-13T19:12:06.639648Z"
    }
   },
   "outputs": [],
   "source": [
    "df.drop('imgURL',axis='columns',inplace=True)"
   ]
  },
  {
   "cell_type": "code",
   "execution_count": 4,
   "metadata": {
    "execution": {
     "iopub.execute_input": "2023-08-13T19:12:06.650754Z",
     "iopub.status.busy": "2023-08-13T19:12:06.650408Z",
     "iopub.status.idle": "2023-08-13T19:12:06.674122Z",
     "shell.execute_reply": "2023-08-13T19:12:06.673190Z",
     "shell.execute_reply.started": "2023-08-13T19:12:06.650726Z"
    },
    "scrolled": true
   },
   "outputs": [
    {
     "data": {
      "text/html": [
       "<div>\n",
       "<style scoped>\n",
       "    .dataframe tbody tr th:only-of-type {\n",
       "        vertical-align: middle;\n",
       "    }\n",
       "\n",
       "    .dataframe tbody tr th {\n",
       "        vertical-align: top;\n",
       "    }\n",
       "\n",
       "    .dataframe thead th {\n",
       "        text-align: right;\n",
       "    }\n",
       "</style>\n",
       "<table border=\"1\" class=\"dataframe\">\n",
       "  <thead>\n",
       "    <tr style=\"text-align: right;\">\n",
       "      <th></th>\n",
       "      <th>name</th>\n",
       "      <th>ratings</th>\n",
       "      <th>price</th>\n",
       "      <th>camera</th>\n",
       "      <th>display</th>\n",
       "      <th>battery</th>\n",
       "      <th>storage</th>\n",
       "      <th>ram</th>\n",
       "      <th>processor</th>\n",
       "      <th>android_version</th>\n",
       "    </tr>\n",
       "  </thead>\n",
       "  <tbody>\n",
       "    <tr>\n",
       "      <th>0</th>\n",
       "      <td>SAMSUNG Galaxy F13 (Sunrise Copper, 64 GB)</td>\n",
       "      <td>4.3</td>\n",
       "      <td>9499</td>\n",
       "      <td>50</td>\n",
       "      <td>other_types</td>\n",
       "      <td>6000</td>\n",
       "      <td>64</td>\n",
       "      <td>4</td>\n",
       "      <td>not mentioned</td>\n",
       "      <td>12</td>\n",
       "    </tr>\n",
       "    <tr>\n",
       "      <th>1</th>\n",
       "      <td>SAMSUNG Galaxy F13 (Waterfall Blue, 128 GB)</td>\n",
       "      <td>4.3</td>\n",
       "      <td>10499</td>\n",
       "      <td>50</td>\n",
       "      <td>other_types</td>\n",
       "      <td>6000</td>\n",
       "      <td>128</td>\n",
       "      <td>4</td>\n",
       "      <td>not mentioned</td>\n",
       "      <td>12</td>\n",
       "    </tr>\n",
       "    <tr>\n",
       "      <th>2</th>\n",
       "      <td>SAMSUNG Galaxy F13 (Nightsky Green, 128 GB)</td>\n",
       "      <td>4.3</td>\n",
       "      <td>10499</td>\n",
       "      <td>50</td>\n",
       "      <td>other_types</td>\n",
       "      <td>6000</td>\n",
       "      <td>128</td>\n",
       "      <td>4</td>\n",
       "      <td>not mentioned</td>\n",
       "      <td>12</td>\n",
       "    </tr>\n",
       "    <tr>\n",
       "      <th>3</th>\n",
       "      <td>SAMSUNG Galaxy F13 (Sunrise Copper, 128 GB)</td>\n",
       "      <td>4.3</td>\n",
       "      <td>10499</td>\n",
       "      <td>50</td>\n",
       "      <td>other_types</td>\n",
       "      <td>6000</td>\n",
       "      <td>128</td>\n",
       "      <td>4</td>\n",
       "      <td>not mentioned</td>\n",
       "      <td>12</td>\n",
       "    </tr>\n",
       "    <tr>\n",
       "      <th>4</th>\n",
       "      <td>SAMSUNG Galaxy F23 5G (Aqua Blue, 128 GB)</td>\n",
       "      <td>4.3</td>\n",
       "      <td>15499</td>\n",
       "      <td>50</td>\n",
       "      <td>other_types</td>\n",
       "      <td>5000</td>\n",
       "      <td>128</td>\n",
       "      <td>6</td>\n",
       "      <td>Snapdragon750GProcessor</td>\n",
       "      <td>12</td>\n",
       "    </tr>\n",
       "    <tr>\n",
       "      <th>...</th>\n",
       "      <td>...</td>\n",
       "      <td>...</td>\n",
       "      <td>...</td>\n",
       "      <td>...</td>\n",
       "      <td>...</td>\n",
       "      <td>...</td>\n",
       "      <td>...</td>\n",
       "      <td>...</td>\n",
       "      <td>...</td>\n",
       "      <td>...</td>\n",
       "    </tr>\n",
       "    <tr>\n",
       "      <th>402</th>\n",
       "      <td>SAMSUNG Galaxy M40 (Seawater Blue, 128 GB)</td>\n",
       "      <td>4.5</td>\n",
       "      <td>21490</td>\n",
       "      <td>32</td>\n",
       "      <td>other_types</td>\n",
       "      <td>3500</td>\n",
       "      <td>128</td>\n",
       "      <td>6</td>\n",
       "      <td>not mentioned</td>\n",
       "      <td>9</td>\n",
       "    </tr>\n",
       "    <tr>\n",
       "      <th>403</th>\n",
       "      <td>SAMSUNG Galaxy A30s (Prism Crush Violet, 64 GB)</td>\n",
       "      <td>4.3</td>\n",
       "      <td>16199</td>\n",
       "      <td>25</td>\n",
       "      <td>other_types</td>\n",
       "      <td>4000</td>\n",
       "      <td>64</td>\n",
       "      <td>4</td>\n",
       "      <td>not mentioned</td>\n",
       "      <td>12</td>\n",
       "    </tr>\n",
       "    <tr>\n",
       "      <th>404</th>\n",
       "      <td>SAMSUNG Galaxy J4 Plus (Black, 32 GB)</td>\n",
       "      <td>4.4</td>\n",
       "      <td>9000</td>\n",
       "      <td>13</td>\n",
       "      <td>other_types</td>\n",
       "      <td>3300</td>\n",
       "      <td>32</td>\n",
       "      <td>2</td>\n",
       "      <td>Snapdragon425P</td>\n",
       "      <td>8</td>\n",
       "    </tr>\n",
       "    <tr>\n",
       "      <th>405</th>\n",
       "      <td>SAMSUNG Galaxy M01s (Gray, 32 GB)</td>\n",
       "      <td>4.2</td>\n",
       "      <td>10999</td>\n",
       "      <td>13</td>\n",
       "      <td>other_types</td>\n",
       "      <td>4000</td>\n",
       "      <td>32</td>\n",
       "      <td>3</td>\n",
       "      <td>MediaTek</td>\n",
       "      <td>9</td>\n",
       "    </tr>\n",
       "    <tr>\n",
       "      <th>406</th>\n",
       "      <td>SAMSUNG Galaxy S22 (Pink Gold, 128 GB)</td>\n",
       "      <td>4.2</td>\n",
       "      <td>20463</td>\n",
       "      <td>50</td>\n",
       "      <td>other_types</td>\n",
       "      <td>3700</td>\n",
       "      <td>128</td>\n",
       "      <td>8</td>\n",
       "      <td>not mentioned</td>\n",
       "      <td>12</td>\n",
       "    </tr>\n",
       "  </tbody>\n",
       "</table>\n",
       "<p>407 rows × 10 columns</p>\n",
       "</div>"
      ],
      "text/plain": [
       "                                                name  ratings  price  camera  \\\n",
       "0         SAMSUNG Galaxy F13 (Sunrise Copper, 64 GB)      4.3   9499      50   \n",
       "1        SAMSUNG Galaxy F13 (Waterfall Blue, 128 GB)      4.3  10499      50   \n",
       "2        SAMSUNG Galaxy F13 (Nightsky Green, 128 GB)      4.3  10499      50   \n",
       "3        SAMSUNG Galaxy F13 (Sunrise Copper, 128 GB)      4.3  10499      50   \n",
       "4          SAMSUNG Galaxy F23 5G (Aqua Blue, 128 GB)      4.3  15499      50   \n",
       "..                                               ...      ...    ...     ...   \n",
       "402       SAMSUNG Galaxy M40 (Seawater Blue, 128 GB)      4.5  21490      32   \n",
       "403  SAMSUNG Galaxy A30s (Prism Crush Violet, 64 GB)      4.3  16199      25   \n",
       "404            SAMSUNG Galaxy J4 Plus (Black, 32 GB)      4.4   9000      13   \n",
       "405                SAMSUNG Galaxy M01s (Gray, 32 GB)      4.2  10999      13   \n",
       "406           SAMSUNG Galaxy S22 (Pink Gold, 128 GB)      4.2  20463      50   \n",
       "\n",
       "         display  battery  storage  ram                processor  \\\n",
       "0    other_types     6000       64    4            not mentioned   \n",
       "1    other_types     6000      128    4            not mentioned   \n",
       "2    other_types     6000      128    4            not mentioned   \n",
       "3    other_types     6000      128    4            not mentioned   \n",
       "4    other_types     5000      128    6  Snapdragon750GProcessor   \n",
       "..           ...      ...      ...  ...                      ...   \n",
       "402  other_types     3500      128    6            not mentioned   \n",
       "403  other_types     4000       64    4            not mentioned   \n",
       "404  other_types     3300       32    2           Snapdragon425P   \n",
       "405  other_types     4000       32    3                 MediaTek   \n",
       "406  other_types     3700      128    8            not mentioned   \n",
       "\n",
       "     android_version  \n",
       "0                 12  \n",
       "1                 12  \n",
       "2                 12  \n",
       "3                 12  \n",
       "4                 12  \n",
       "..               ...  \n",
       "402                9  \n",
       "403               12  \n",
       "404                8  \n",
       "405                9  \n",
       "406               12  \n",
       "\n",
       "[407 rows x 10 columns]"
      ]
     },
     "execution_count": 4,
     "metadata": {},
     "output_type": "execute_result"
    }
   ],
   "source": [
    "df"
   ]
  },
  {
   "cell_type": "code",
   "execution_count": 5,
   "metadata": {
    "execution": {
     "iopub.execute_input": "2023-08-13T19:12:06.676290Z",
     "iopub.status.busy": "2023-08-13T19:12:06.675926Z",
     "iopub.status.idle": "2023-08-13T19:12:06.691556Z",
     "shell.execute_reply": "2023-08-13T19:12:06.690411Z",
     "shell.execute_reply.started": "2023-08-13T19:12:06.676260Z"
    }
   },
   "outputs": [
    {
     "data": {
      "text/plain": [
       "name               0\n",
       "ratings            0\n",
       "price              0\n",
       "camera             0\n",
       "display            0\n",
       "battery            0\n",
       "storage            0\n",
       "ram                0\n",
       "processor          0\n",
       "android_version    0\n",
       "dtype: int64"
      ]
     },
     "execution_count": 5,
     "metadata": {},
     "output_type": "execute_result"
    }
   ],
   "source": [
    "df.isna().sum()"
   ]
  },
  {
   "cell_type": "code",
   "execution_count": 6,
   "metadata": {
    "execution": {
     "iopub.execute_input": "2023-08-13T19:12:06.693312Z",
     "iopub.status.busy": "2023-08-13T19:12:06.692931Z",
     "iopub.status.idle": "2023-08-13T19:12:06.703920Z",
     "shell.execute_reply": "2023-08-13T19:12:06.703014Z",
     "shell.execute_reply.started": "2023-08-13T19:12:06.693280Z"
    }
   },
   "outputs": [
    {
     "data": {
      "text/plain": [
       "0"
      ]
     },
     "execution_count": 6,
     "metadata": {},
     "output_type": "execute_result"
    }
   ],
   "source": [
    "df['ratings'].isna().sum()"
   ]
  },
  {
   "cell_type": "code",
   "execution_count": 7,
   "metadata": {
    "execution": {
     "iopub.execute_input": "2023-08-13T19:12:06.706088Z",
     "iopub.status.busy": "2023-08-13T19:12:06.705091Z",
     "iopub.status.idle": "2023-08-13T19:12:06.714422Z",
     "shell.execute_reply": "2023-08-13T19:12:06.713488Z",
     "shell.execute_reply.started": "2023-08-13T19:12:06.706048Z"
    }
   },
   "outputs": [],
   "source": [
    "df.dropna(inplace=True)"
   ]
  },
  {
   "cell_type": "code",
   "execution_count": 8,
   "metadata": {
    "execution": {
     "iopub.execute_input": "2023-08-13T19:12:06.716981Z",
     "iopub.status.busy": "2023-08-13T19:12:06.716478Z",
     "iopub.status.idle": "2023-08-13T19:12:06.738866Z",
     "shell.execute_reply": "2023-08-13T19:12:06.737926Z",
     "shell.execute_reply.started": "2023-08-13T19:12:06.716951Z"
    }
   },
   "outputs": [
    {
     "data": {
      "text/html": [
       "<div>\n",
       "<style scoped>\n",
       "    .dataframe tbody tr th:only-of-type {\n",
       "        vertical-align: middle;\n",
       "    }\n",
       "\n",
       "    .dataframe tbody tr th {\n",
       "        vertical-align: top;\n",
       "    }\n",
       "\n",
       "    .dataframe thead th {\n",
       "        text-align: right;\n",
       "    }\n",
       "</style>\n",
       "<table border=\"1\" class=\"dataframe\">\n",
       "  <thead>\n",
       "    <tr style=\"text-align: right;\">\n",
       "      <th></th>\n",
       "      <th>name</th>\n",
       "      <th>ratings</th>\n",
       "      <th>price</th>\n",
       "      <th>camera</th>\n",
       "      <th>display</th>\n",
       "      <th>battery</th>\n",
       "      <th>storage</th>\n",
       "      <th>ram</th>\n",
       "      <th>processor</th>\n",
       "      <th>android_version</th>\n",
       "    </tr>\n",
       "  </thead>\n",
       "  <tbody>\n",
       "    <tr>\n",
       "      <th>0</th>\n",
       "      <td>SAMSUNG Galaxy F13 (Sunrise Copper, 64 GB)</td>\n",
       "      <td>4.3</td>\n",
       "      <td>9499</td>\n",
       "      <td>50</td>\n",
       "      <td>other_types</td>\n",
       "      <td>6000</td>\n",
       "      <td>64</td>\n",
       "      <td>4</td>\n",
       "      <td>not mentioned</td>\n",
       "      <td>12</td>\n",
       "    </tr>\n",
       "    <tr>\n",
       "      <th>1</th>\n",
       "      <td>SAMSUNG Galaxy F13 (Waterfall Blue, 128 GB)</td>\n",
       "      <td>4.3</td>\n",
       "      <td>10499</td>\n",
       "      <td>50</td>\n",
       "      <td>other_types</td>\n",
       "      <td>6000</td>\n",
       "      <td>128</td>\n",
       "      <td>4</td>\n",
       "      <td>not mentioned</td>\n",
       "      <td>12</td>\n",
       "    </tr>\n",
       "    <tr>\n",
       "      <th>2</th>\n",
       "      <td>SAMSUNG Galaxy F13 (Nightsky Green, 128 GB)</td>\n",
       "      <td>4.3</td>\n",
       "      <td>10499</td>\n",
       "      <td>50</td>\n",
       "      <td>other_types</td>\n",
       "      <td>6000</td>\n",
       "      <td>128</td>\n",
       "      <td>4</td>\n",
       "      <td>not mentioned</td>\n",
       "      <td>12</td>\n",
       "    </tr>\n",
       "    <tr>\n",
       "      <th>3</th>\n",
       "      <td>SAMSUNG Galaxy F13 (Sunrise Copper, 128 GB)</td>\n",
       "      <td>4.3</td>\n",
       "      <td>10499</td>\n",
       "      <td>50</td>\n",
       "      <td>other_types</td>\n",
       "      <td>6000</td>\n",
       "      <td>128</td>\n",
       "      <td>4</td>\n",
       "      <td>not mentioned</td>\n",
       "      <td>12</td>\n",
       "    </tr>\n",
       "    <tr>\n",
       "      <th>4</th>\n",
       "      <td>SAMSUNG Galaxy F23 5G (Aqua Blue, 128 GB)</td>\n",
       "      <td>4.3</td>\n",
       "      <td>15499</td>\n",
       "      <td>50</td>\n",
       "      <td>other_types</td>\n",
       "      <td>5000</td>\n",
       "      <td>128</td>\n",
       "      <td>6</td>\n",
       "      <td>Snapdragon750GProcessor</td>\n",
       "      <td>12</td>\n",
       "    </tr>\n",
       "    <tr>\n",
       "      <th>...</th>\n",
       "      <td>...</td>\n",
       "      <td>...</td>\n",
       "      <td>...</td>\n",
       "      <td>...</td>\n",
       "      <td>...</td>\n",
       "      <td>...</td>\n",
       "      <td>...</td>\n",
       "      <td>...</td>\n",
       "      <td>...</td>\n",
       "      <td>...</td>\n",
       "    </tr>\n",
       "    <tr>\n",
       "      <th>402</th>\n",
       "      <td>SAMSUNG Galaxy M40 (Seawater Blue, 128 GB)</td>\n",
       "      <td>4.5</td>\n",
       "      <td>21490</td>\n",
       "      <td>32</td>\n",
       "      <td>other_types</td>\n",
       "      <td>3500</td>\n",
       "      <td>128</td>\n",
       "      <td>6</td>\n",
       "      <td>not mentioned</td>\n",
       "      <td>9</td>\n",
       "    </tr>\n",
       "    <tr>\n",
       "      <th>403</th>\n",
       "      <td>SAMSUNG Galaxy A30s (Prism Crush Violet, 64 GB)</td>\n",
       "      <td>4.3</td>\n",
       "      <td>16199</td>\n",
       "      <td>25</td>\n",
       "      <td>other_types</td>\n",
       "      <td>4000</td>\n",
       "      <td>64</td>\n",
       "      <td>4</td>\n",
       "      <td>not mentioned</td>\n",
       "      <td>12</td>\n",
       "    </tr>\n",
       "    <tr>\n",
       "      <th>404</th>\n",
       "      <td>SAMSUNG Galaxy J4 Plus (Black, 32 GB)</td>\n",
       "      <td>4.4</td>\n",
       "      <td>9000</td>\n",
       "      <td>13</td>\n",
       "      <td>other_types</td>\n",
       "      <td>3300</td>\n",
       "      <td>32</td>\n",
       "      <td>2</td>\n",
       "      <td>Snapdragon425P</td>\n",
       "      <td>8</td>\n",
       "    </tr>\n",
       "    <tr>\n",
       "      <th>405</th>\n",
       "      <td>SAMSUNG Galaxy M01s (Gray, 32 GB)</td>\n",
       "      <td>4.2</td>\n",
       "      <td>10999</td>\n",
       "      <td>13</td>\n",
       "      <td>other_types</td>\n",
       "      <td>4000</td>\n",
       "      <td>32</td>\n",
       "      <td>3</td>\n",
       "      <td>MediaTek</td>\n",
       "      <td>9</td>\n",
       "    </tr>\n",
       "    <tr>\n",
       "      <th>406</th>\n",
       "      <td>SAMSUNG Galaxy S22 (Pink Gold, 128 GB)</td>\n",
       "      <td>4.2</td>\n",
       "      <td>20463</td>\n",
       "      <td>50</td>\n",
       "      <td>other_types</td>\n",
       "      <td>3700</td>\n",
       "      <td>128</td>\n",
       "      <td>8</td>\n",
       "      <td>not mentioned</td>\n",
       "      <td>12</td>\n",
       "    </tr>\n",
       "  </tbody>\n",
       "</table>\n",
       "<p>407 rows × 10 columns</p>\n",
       "</div>"
      ],
      "text/plain": [
       "                                                name  ratings  price  camera  \\\n",
       "0         SAMSUNG Galaxy F13 (Sunrise Copper, 64 GB)      4.3   9499      50   \n",
       "1        SAMSUNG Galaxy F13 (Waterfall Blue, 128 GB)      4.3  10499      50   \n",
       "2        SAMSUNG Galaxy F13 (Nightsky Green, 128 GB)      4.3  10499      50   \n",
       "3        SAMSUNG Galaxy F13 (Sunrise Copper, 128 GB)      4.3  10499      50   \n",
       "4          SAMSUNG Galaxy F23 5G (Aqua Blue, 128 GB)      4.3  15499      50   \n",
       "..                                               ...      ...    ...     ...   \n",
       "402       SAMSUNG Galaxy M40 (Seawater Blue, 128 GB)      4.5  21490      32   \n",
       "403  SAMSUNG Galaxy A30s (Prism Crush Violet, 64 GB)      4.3  16199      25   \n",
       "404            SAMSUNG Galaxy J4 Plus (Black, 32 GB)      4.4   9000      13   \n",
       "405                SAMSUNG Galaxy M01s (Gray, 32 GB)      4.2  10999      13   \n",
       "406           SAMSUNG Galaxy S22 (Pink Gold, 128 GB)      4.2  20463      50   \n",
       "\n",
       "         display  battery  storage  ram                processor  \\\n",
       "0    other_types     6000       64    4            not mentioned   \n",
       "1    other_types     6000      128    4            not mentioned   \n",
       "2    other_types     6000      128    4            not mentioned   \n",
       "3    other_types     6000      128    4            not mentioned   \n",
       "4    other_types     5000      128    6  Snapdragon750GProcessor   \n",
       "..           ...      ...      ...  ...                      ...   \n",
       "402  other_types     3500      128    6            not mentioned   \n",
       "403  other_types     4000       64    4            not mentioned   \n",
       "404  other_types     3300       32    2           Snapdragon425P   \n",
       "405  other_types     4000       32    3                 MediaTek   \n",
       "406  other_types     3700      128    8            not mentioned   \n",
       "\n",
       "     android_version  \n",
       "0                 12  \n",
       "1                 12  \n",
       "2                 12  \n",
       "3                 12  \n",
       "4                 12  \n",
       "..               ...  \n",
       "402                9  \n",
       "403               12  \n",
       "404                8  \n",
       "405                9  \n",
       "406               12  \n",
       "\n",
       "[407 rows x 10 columns]"
      ]
     },
     "execution_count": 8,
     "metadata": {},
     "output_type": "execute_result"
    }
   ],
   "source": [
    "df"
   ]
  },
  {
   "cell_type": "code",
   "execution_count": 9,
   "metadata": {
    "execution": {
     "iopub.execute_input": "2023-08-13T19:12:06.743510Z",
     "iopub.status.busy": "2023-08-13T19:12:06.742760Z",
     "iopub.status.idle": "2023-08-13T19:12:06.748964Z",
     "shell.execute_reply": "2023-08-13T19:12:06.747649Z",
     "shell.execute_reply.started": "2023-08-13T19:12:06.743477Z"
    }
   },
   "outputs": [],
   "source": [
    "df.drop(['name','display','processor'],axis='columns',inplace=True)"
   ]
  },
  {
   "cell_type": "code",
   "execution_count": 10,
   "metadata": {
    "execution": {
     "iopub.execute_input": "2023-08-13T19:12:06.752033Z",
     "iopub.status.busy": "2023-08-13T19:12:06.751195Z",
     "iopub.status.idle": "2023-08-13T19:12:06.774976Z",
     "shell.execute_reply": "2023-08-13T19:12:06.773865Z",
     "shell.execute_reply.started": "2023-08-13T19:12:06.751991Z"
    },
    "scrolled": true
   },
   "outputs": [
    {
     "data": {
      "text/html": [
       "<div>\n",
       "<style scoped>\n",
       "    .dataframe tbody tr th:only-of-type {\n",
       "        vertical-align: middle;\n",
       "    }\n",
       "\n",
       "    .dataframe tbody tr th {\n",
       "        vertical-align: top;\n",
       "    }\n",
       "\n",
       "    .dataframe thead th {\n",
       "        text-align: right;\n",
       "    }\n",
       "</style>\n",
       "<table border=\"1\" class=\"dataframe\">\n",
       "  <thead>\n",
       "    <tr style=\"text-align: right;\">\n",
       "      <th></th>\n",
       "      <th>ratings</th>\n",
       "      <th>price</th>\n",
       "      <th>camera</th>\n",
       "      <th>battery</th>\n",
       "      <th>storage</th>\n",
       "      <th>ram</th>\n",
       "      <th>android_version</th>\n",
       "    </tr>\n",
       "  </thead>\n",
       "  <tbody>\n",
       "    <tr>\n",
       "      <th>0</th>\n",
       "      <td>4.3</td>\n",
       "      <td>9499</td>\n",
       "      <td>50</td>\n",
       "      <td>6000</td>\n",
       "      <td>64</td>\n",
       "      <td>4</td>\n",
       "      <td>12</td>\n",
       "    </tr>\n",
       "    <tr>\n",
       "      <th>1</th>\n",
       "      <td>4.3</td>\n",
       "      <td>10499</td>\n",
       "      <td>50</td>\n",
       "      <td>6000</td>\n",
       "      <td>128</td>\n",
       "      <td>4</td>\n",
       "      <td>12</td>\n",
       "    </tr>\n",
       "    <tr>\n",
       "      <th>2</th>\n",
       "      <td>4.3</td>\n",
       "      <td>10499</td>\n",
       "      <td>50</td>\n",
       "      <td>6000</td>\n",
       "      <td>128</td>\n",
       "      <td>4</td>\n",
       "      <td>12</td>\n",
       "    </tr>\n",
       "    <tr>\n",
       "      <th>3</th>\n",
       "      <td>4.3</td>\n",
       "      <td>10499</td>\n",
       "      <td>50</td>\n",
       "      <td>6000</td>\n",
       "      <td>128</td>\n",
       "      <td>4</td>\n",
       "      <td>12</td>\n",
       "    </tr>\n",
       "    <tr>\n",
       "      <th>4</th>\n",
       "      <td>4.3</td>\n",
       "      <td>15499</td>\n",
       "      <td>50</td>\n",
       "      <td>5000</td>\n",
       "      <td>128</td>\n",
       "      <td>6</td>\n",
       "      <td>12</td>\n",
       "    </tr>\n",
       "    <tr>\n",
       "      <th>...</th>\n",
       "      <td>...</td>\n",
       "      <td>...</td>\n",
       "      <td>...</td>\n",
       "      <td>...</td>\n",
       "      <td>...</td>\n",
       "      <td>...</td>\n",
       "      <td>...</td>\n",
       "    </tr>\n",
       "    <tr>\n",
       "      <th>402</th>\n",
       "      <td>4.5</td>\n",
       "      <td>21490</td>\n",
       "      <td>32</td>\n",
       "      <td>3500</td>\n",
       "      <td>128</td>\n",
       "      <td>6</td>\n",
       "      <td>9</td>\n",
       "    </tr>\n",
       "    <tr>\n",
       "      <th>403</th>\n",
       "      <td>4.3</td>\n",
       "      <td>16199</td>\n",
       "      <td>25</td>\n",
       "      <td>4000</td>\n",
       "      <td>64</td>\n",
       "      <td>4</td>\n",
       "      <td>12</td>\n",
       "    </tr>\n",
       "    <tr>\n",
       "      <th>404</th>\n",
       "      <td>4.4</td>\n",
       "      <td>9000</td>\n",
       "      <td>13</td>\n",
       "      <td>3300</td>\n",
       "      <td>32</td>\n",
       "      <td>2</td>\n",
       "      <td>8</td>\n",
       "    </tr>\n",
       "    <tr>\n",
       "      <th>405</th>\n",
       "      <td>4.2</td>\n",
       "      <td>10999</td>\n",
       "      <td>13</td>\n",
       "      <td>4000</td>\n",
       "      <td>32</td>\n",
       "      <td>3</td>\n",
       "      <td>9</td>\n",
       "    </tr>\n",
       "    <tr>\n",
       "      <th>406</th>\n",
       "      <td>4.2</td>\n",
       "      <td>20463</td>\n",
       "      <td>50</td>\n",
       "      <td>3700</td>\n",
       "      <td>128</td>\n",
       "      <td>8</td>\n",
       "      <td>12</td>\n",
       "    </tr>\n",
       "  </tbody>\n",
       "</table>\n",
       "<p>407 rows × 7 columns</p>\n",
       "</div>"
      ],
      "text/plain": [
       "     ratings  price  camera  battery  storage  ram  android_version\n",
       "0        4.3   9499      50     6000       64    4               12\n",
       "1        4.3  10499      50     6000      128    4               12\n",
       "2        4.3  10499      50     6000      128    4               12\n",
       "3        4.3  10499      50     6000      128    4               12\n",
       "4        4.3  15499      50     5000      128    6               12\n",
       "..       ...    ...     ...      ...      ...  ...              ...\n",
       "402      4.5  21490      32     3500      128    6                9\n",
       "403      4.3  16199      25     4000       64    4               12\n",
       "404      4.4   9000      13     3300       32    2                8\n",
       "405      4.2  10999      13     4000       32    3                9\n",
       "406      4.2  20463      50     3700      128    8               12\n",
       "\n",
       "[407 rows x 7 columns]"
      ]
     },
     "execution_count": 10,
     "metadata": {},
     "output_type": "execute_result"
    }
   ],
   "source": [
    "df"
   ]
  },
  {
   "cell_type": "code",
   "execution_count": 11,
   "metadata": {
    "execution": {
     "iopub.execute_input": "2023-08-13T19:12:06.777624Z",
     "iopub.status.busy": "2023-08-13T19:12:06.776542Z",
     "iopub.status.idle": "2023-08-13T19:12:06.791178Z",
     "shell.execute_reply": "2023-08-13T19:12:06.789851Z",
     "shell.execute_reply.started": "2023-08-13T19:12:06.777580Z"
    }
   },
   "outputs": [
    {
     "data": {
      "text/plain": [
       "ratings            float64\n",
       "price                int64\n",
       "camera               int64\n",
       "battery              int64\n",
       "storage              int64\n",
       "ram                  int64\n",
       "android_version      int64\n",
       "dtype: object"
      ]
     },
     "execution_count": 11,
     "metadata": {},
     "output_type": "execute_result"
    }
   ],
   "source": [
    "df.dtypes"
   ]
  },
  {
   "cell_type": "code",
   "execution_count": 12,
   "metadata": {
    "execution": {
     "iopub.execute_input": "2023-08-13T19:12:06.794199Z",
     "iopub.status.busy": "2023-08-13T19:12:06.792955Z",
     "iopub.status.idle": "2023-08-13T19:12:06.807004Z",
     "shell.execute_reply": "2023-08-13T19:12:06.805707Z",
     "shell.execute_reply.started": "2023-08-13T19:12:06.794125Z"
    }
   },
   "outputs": [
    {
     "data": {
      "text/plain": [
       "ratings            float64\n",
       "price                int64\n",
       "camera               int64\n",
       "battery              int64\n",
       "storage              int64\n",
       "ram                  int64\n",
       "android_version      int64\n",
       "dtype: object"
      ]
     },
     "execution_count": 12,
     "metadata": {},
     "output_type": "execute_result"
    }
   ],
   "source": [
    "df.dtypes"
   ]
  },
  {
   "cell_type": "code",
   "execution_count": 13,
   "metadata": {
    "execution": {
     "iopub.execute_input": "2023-08-13T19:12:06.810920Z",
     "iopub.status.busy": "2023-08-13T19:12:06.810190Z",
     "iopub.status.idle": "2023-08-13T19:12:07.126493Z",
     "shell.execute_reply": "2023-08-13T19:12:07.125679Z",
     "shell.execute_reply.started": "2023-08-13T19:12:06.810874Z"
    }
   },
   "outputs": [
    {
     "data": {
      "text/plain": [
       "<Axes: xlabel='battery', ylabel='Count'>"
      ]
     },
     "execution_count": 13,
     "metadata": {},
     "output_type": "execute_result"
    },
    {
     "data": {
      "image/png": "[encoded data removed]",
      "text/plain": [
       "<Figure size 640x480 with 1 Axes>"
      ]
     },
     "metadata": {},
     "output_type": "display_data"
    }
   ],
   "source": [
    "sn.histplot(x='battery',data=df)"
   ]
  },
  {
   "cell_type": "code",
   "execution_count": 14,
   "metadata": {
    "execution": {
     "iopub.execute_input": "2023-08-13T19:12:07.128131Z",
     "iopub.status.busy": "2023-08-13T19:12:07.127581Z",
     "iopub.status.idle": "2023-08-13T19:12:07.393493Z",
     "shell.execute_reply": "2023-08-13T19:12:07.392012Z",
     "shell.execute_reply.started": "2023-08-13T19:12:07.128100Z"
    }
   },
   "outputs": [
    {
     "data": {
      "text/plain": [
       "<Axes: xlabel='ram', ylabel='Count'>"
      ]
     },
     "execution_count": 14,
     "metadata": {},
     "output_type": "execute_result"
    },
    {
     "data": {
      "image/png": "[encoded data removed]",
      "text/plain": [
       "<Figure size 640x480 with 1 Axes>"
      ]
     },
     "metadata": {},
     "output_type": "display_data"
    }
   ],
   "source": [
    "sn.histplot(x='ram',data=df)"
   ]
  },
  {
   "cell_type": "code",
   "execution_count": 15,
   "metadata": {
    "execution": {
     "iopub.execute_input": "2023-08-13T19:12:07.395599Z",
     "iopub.status.busy": "2023-08-13T19:12:07.395114Z",
     "iopub.status.idle": "2023-08-13T19:12:07.703426Z",
     "shell.execute_reply": "2023-08-13T19:12:07.701896Z",
     "shell.execute_reply.started": "2023-08-13T19:12:07.395558Z"
    }
   },
   "outputs": [
    {
     "data": {
      "text/plain": [
       "<Axes: xlabel='storage', ylabel='Count'>"
      ]
     },
     "execution_count": 15,
     "metadata": {},
     "output_type": "execute_result"
    },
    {
     "data": {
      "image/png": "[encoded data removed]",
      "text/plain": [
       "<Figure size 640x480 with 1 Axes>"
      ]
     },
     "metadata": {},
     "output_type": "display_data"
    }
   ],
   "source": [
    "sn.histplot(x='storage',data=df)"
   ]
  },
  {
   "cell_type": "code",
   "execution_count": 16,
   "metadata": {
    "execution": {
     "iopub.execute_input": "2023-08-13T19:12:07.704989Z",
     "iopub.status.busy": "2023-08-13T19:12:07.704652Z",
     "iopub.status.idle": "2023-08-13T19:12:07.711979Z",
     "shell.execute_reply": "2023-08-13T19:12:07.710700Z",
     "shell.execute_reply.started": "2023-08-13T19:12:07.704962Z"
    }
   },
   "outputs": [],
   "source": [
    "inputs=df.drop(['price'],axis='columns')"
   ]
  },
  {
   "cell_type": "code",
   "execution_count": 17,
   "metadata": {
    "execution": {
     "iopub.execute_input": "2023-08-13T19:12:07.713824Z",
     "iopub.status.busy": "2023-08-13T19:12:07.713373Z",
     "iopub.status.idle": "2023-08-13T19:12:07.727757Z",
     "shell.execute_reply": "2023-08-13T19:12:07.726771Z",
     "shell.execute_reply.started": "2023-08-13T19:12:07.713794Z"
    }
   },
   "outputs": [],
   "source": [
    "target=df.price"
   ]
  },
  {
   "cell_type": "code",
   "execution_count": 18,
   "metadata": {
    "execution": {
     "iopub.execute_input": "2023-08-13T19:12:07.729893Z",
     "iopub.status.busy": "2023-08-13T19:12:07.728845Z",
     "iopub.status.idle": "2023-08-13T19:12:07.760158Z",
     "shell.execute_reply": "2023-08-13T19:12:07.759258Z",
     "shell.execute_reply.started": "2023-08-13T19:12:07.729834Z"
    }
   },
   "outputs": [
    {
     "data": {
      "text/plain": [
       "0       9499\n",
       "1      10499\n",
       "2      10499\n",
       "3      10499\n",
       "4      15499\n",
       "       ...  \n",
       "402    21490\n",
       "403    16199\n",
       "404     9000\n",
       "405    10999\n",
       "406    20463\n",
       "Name: price, Length: 407, dtype: int64"
      ]
     },
     "execution_count": 18,
     "metadata": {},
     "output_type": "execute_result"
    }
   ],
   "source": [
    "target"
   ]
  },
  {
   "cell_type": "code",
   "execution_count": 19,
   "metadata": {
    "execution": {
     "iopub.execute_input": "2023-08-13T19:12:07.762051Z",
     "iopub.status.busy": "2023-08-13T19:12:07.761255Z",
     "iopub.status.idle": "2023-08-13T19:12:07.787075Z",
     "shell.execute_reply": "2023-08-13T19:12:07.785897Z",
     "shell.execute_reply.started": "2023-08-13T19:12:07.761918Z"
    }
   },
   "outputs": [
    {
     "data": {
      "text/html": [
       "<div>\n",
       "<style scoped>\n",
       "    .dataframe tbody tr th:only-of-type {\n",
       "        vertical-align: middle;\n",
       "    }\n",
       "\n",
       "    .dataframe tbody tr th {\n",
       "        vertical-align: top;\n",
       "    }\n",
       "\n",
       "    .dataframe thead th {\n",
       "        text-align: right;\n",
       "    }\n",
       "</style>\n",
       "<table border=\"1\" class=\"dataframe\">\n",
       "  <thead>\n",
       "    <tr style=\"text-align: right;\">\n",
       "      <th></th>\n",
       "      <th>ratings</th>\n",
       "      <th>camera</th>\n",
       "      <th>battery</th>\n",
       "      <th>storage</th>\n",
       "      <th>ram</th>\n",
       "      <th>android_version</th>\n",
       "    </tr>\n",
       "  </thead>\n",
       "  <tbody>\n",
       "    <tr>\n",
       "      <th>0</th>\n",
       "      <td>4.3</td>\n",
       "      <td>50</td>\n",
       "      <td>6000</td>\n",
       "      <td>64</td>\n",
       "      <td>4</td>\n",
       "      <td>12</td>\n",
       "    </tr>\n",
       "    <tr>\n",
       "      <th>1</th>\n",
       "      <td>4.3</td>\n",
       "      <td>50</td>\n",
       "      <td>6000</td>\n",
       "      <td>128</td>\n",
       "      <td>4</td>\n",
       "      <td>12</td>\n",
       "    </tr>\n",
       "    <tr>\n",
       "      <th>2</th>\n",
       "      <td>4.3</td>\n",
       "      <td>50</td>\n",
       "      <td>6000</td>\n",
       "      <td>128</td>\n",
       "      <td>4</td>\n",
       "      <td>12</td>\n",
       "    </tr>\n",
       "    <tr>\n",
       "      <th>3</th>\n",
       "      <td>4.3</td>\n",
       "      <td>50</td>\n",
       "      <td>6000</td>\n",
       "      <td>128</td>\n",
       "      <td>4</td>\n",
       "      <td>12</td>\n",
       "    </tr>\n",
       "    <tr>\n",
       "      <th>4</th>\n",
       "      <td>4.3</td>\n",
       "      <td>50</td>\n",
       "      <td>5000</td>\n",
       "      <td>128</td>\n",
       "      <td>6</td>\n",
       "      <td>12</td>\n",
       "    </tr>\n",
       "    <tr>\n",
       "      <th>...</th>\n",
       "      <td>...</td>\n",
       "      <td>...</td>\n",
       "      <td>...</td>\n",
       "      <td>...</td>\n",
       "      <td>...</td>\n",
       "      <td>...</td>\n",
       "    </tr>\n",
       "    <tr>\n",
       "      <th>402</th>\n",
       "      <td>4.5</td>\n",
       "      <td>32</td>\n",
       "      <td>3500</td>\n",
       "      <td>128</td>\n",
       "      <td>6</td>\n",
       "      <td>9</td>\n",
       "    </tr>\n",
       "    <tr>\n",
       "      <th>403</th>\n",
       "      <td>4.3</td>\n",
       "      <td>25</td>\n",
       "      <td>4000</td>\n",
       "      <td>64</td>\n",
       "      <td>4</td>\n",
       "      <td>12</td>\n",
       "    </tr>\n",
       "    <tr>\n",
       "      <th>404</th>\n",
       "      <td>4.4</td>\n",
       "      <td>13</td>\n",
       "      <td>3300</td>\n",
       "      <td>32</td>\n",
       "      <td>2</td>\n",
       "      <td>8</td>\n",
       "    </tr>\n",
       "    <tr>\n",
       "      <th>405</th>\n",
       "      <td>4.2</td>\n",
       "      <td>13</td>\n",
       "      <td>4000</td>\n",
       "      <td>32</td>\n",
       "      <td>3</td>\n",
       "      <td>9</td>\n",
       "    </tr>\n",
       "    <tr>\n",
       "      <th>406</th>\n",
       "      <td>4.2</td>\n",
       "      <td>50</td>\n",
       "      <td>3700</td>\n",
       "      <td>128</td>\n",
       "      <td>8</td>\n",
       "      <td>12</td>\n",
       "    </tr>\n",
       "  </tbody>\n",
       "</table>\n",
       "<p>407 rows × 6 columns</p>\n",
       "</div>"
      ],
      "text/plain": [
       "     ratings  camera  battery  storage  ram  android_version\n",
       "0        4.3      50     6000       64    4               12\n",
       "1        4.3      50     6000      128    4               12\n",
       "2        4.3      50     6000      128    4               12\n",
       "3        4.3      50     6000      128    4               12\n",
       "4        4.3      50     5000      128    6               12\n",
       "..       ...     ...      ...      ...  ...              ...\n",
       "402      4.5      32     3500      128    6                9\n",
       "403      4.3      25     4000       64    4               12\n",
       "404      4.4      13     3300       32    2                8\n",
       "405      4.2      13     4000       32    3                9\n",
       "406      4.2      50     3700      128    8               12\n",
       "\n",
       "[407 rows x 6 columns]"
      ]
     },
     "execution_count": 19,
     "metadata": {},
     "output_type": "execute_result"
    }
   ],
   "source": [
    "inputs"
   ]
  },
  {
   "cell_type": "code",
   "execution_count": 20,
   "metadata": {
    "execution": {
     "iopub.execute_input": "2023-08-13T19:12:07.788854Z",
     "iopub.status.busy": "2023-08-13T19:12:07.788476Z",
     "iopub.status.idle": "2023-08-13T19:12:07.806963Z",
     "shell.execute_reply": "2023-08-13T19:12:07.806184Z",
     "shell.execute_reply.started": "2023-08-13T19:12:07.788822Z"
    }
   },
   "outputs": [
    {
     "data": {
      "text/plain": [
       "ratings            0\n",
       "camera             0\n",
       "battery            0\n",
       "storage            0\n",
       "ram                0\n",
       "android_version    0\n",
       "dtype: int64"
      ]
     },
     "execution_count": 20,
     "metadata": {},
     "output_type": "execute_result"
    }
   ],
   "source": [
    "inputs.isna().sum()"
   ]
  },
  {
   "cell_type": "code",
   "execution_count": 21,
   "metadata": {
    "execution": {
     "iopub.execute_input": "2023-08-13T19:12:07.808856Z",
     "iopub.status.busy": "2023-08-13T19:12:07.808522Z",
     "iopub.status.idle": "2023-08-13T19:12:07.906665Z",
     "shell.execute_reply": "2023-08-13T19:12:07.905637Z",
     "shell.execute_reply.started": "2023-08-13T19:12:07.808826Z"
    }
   },
   "outputs": [],
   "source": [
    "from sklearn.preprocessing import MinMaxScaler"
   ]
  },
  {
   "cell_type": "code",
   "execution_count": 22,
   "metadata": {
    "execution": {
     "iopub.execute_input": "2023-08-13T19:12:07.912267Z",
     "iopub.status.busy": "2023-08-13T19:12:07.911764Z",
     "iopub.status.idle": "2023-08-13T19:12:07.923446Z",
     "shell.execute_reply": "2023-08-13T19:12:07.922428Z",
     "shell.execute_reply.started": "2023-08-13T19:12:07.912223Z"
    }
   },
   "outputs": [
    {
     "data": {
      "text/plain": [
       "array([[0.73684211, 0.25      , 0.81818182, 0.12328767, 0.27272727,\n",
       "        0.91666667],\n",
       "       [0.73684211, 0.25      , 0.81818182, 0.24853229, 0.27272727,\n",
       "        0.91666667],\n",
       "       [0.73684211, 0.25      , 0.81818182, 0.24853229, 0.27272727,\n",
       "        0.91666667],\n",
       "       ...,\n",
       "       [0.78947368, 0.065     , 0.32727273, 0.06066536, 0.09090909,\n",
       "        0.58333333],\n",
       "       [0.68421053, 0.065     , 0.45454545, 0.06066536, 0.18181818,\n",
       "        0.66666667],\n",
       "       [0.68421053, 0.25      , 0.4       , 0.24853229, 0.63636364,\n",
       "        0.91666667]])"
      ]
     },
     "execution_count": 22,
     "metadata": {},
     "output_type": "execute_result"
    }
   ],
   "source": [
    "ms=MinMaxScaler()\n",
    "inputs=ms.fit_transform(inputs)\n",
    "inputs"
   ]
  },
  {
   "cell_type": "code",
   "execution_count": 23,
   "metadata": {
    "execution": {
     "iopub.execute_input": "2023-08-13T19:12:07.925212Z",
     "iopub.status.busy": "2023-08-13T19:12:07.924731Z",
     "iopub.status.idle": "2023-08-13T19:12:08.070662Z",
     "shell.execute_reply": "2023-08-13T19:12:08.069451Z",
     "shell.execute_reply.started": "2023-08-13T19:12:07.925156Z"
    }
   },
   "outputs": [],
   "source": [
    "from sklearn.model_selection import train_test_split"
   ]
  },
  {
   "cell_type": "code",
   "execution_count": 24,
   "metadata": {
    "execution": {
     "iopub.execute_input": "2023-08-13T19:12:08.072708Z",
     "iopub.status.busy": "2023-08-13T19:12:08.072385Z",
     "iopub.status.idle": "2023-08-13T19:12:08.078112Z",
     "shell.execute_reply": "2023-08-13T19:12:08.077293Z",
     "shell.execute_reply.started": "2023-08-13T19:12:08.072681Z"
    }
   },
   "outputs": [],
   "source": [
    "X_train,X_test,y_train,y_test=train_test_split(inputs,target,test_size=0.2)"
   ]
  },
  {
   "cell_type": "code",
   "execution_count": 25,
   "metadata": {
    "execution": {
     "iopub.execute_input": "2023-08-13T19:12:08.079265Z",
     "iopub.status.busy": "2023-08-13T19:12:08.078968Z",
     "iopub.status.idle": "2023-08-13T19:12:08.099318Z",
     "shell.execute_reply": "2023-08-13T19:12:08.098231Z",
     "shell.execute_reply.started": "2023-08-13T19:12:08.079239Z"
    }
   },
   "outputs": [
    {
     "data": {
      "text/plain": [
       "array([[0.73684211, 0.065     , 0.45454545, 0.06066536, 0.09090909,\n",
       "        0.66666667],\n",
       "       [0.57894737, 0.32      , 0.63636364, 0.24853229, 0.45454545,\n",
       "        0.91666667],\n",
       "       [0.78947368, 0.065     , 0.27272727, 0.06066536, 0.18181818,\n",
       "        0.5       ],\n",
       "       ...,\n",
       "       [0.63157895, 0.24      , 0.63636364, 0.24853229, 0.45454545,\n",
       "        0.66666667],\n",
       "       [0.68421053, 0.25      , 0.81818182, 0.24853229, 0.27272727,\n",
       "        0.75      ],\n",
       "       [0.68421053, 0.24      , 0.81818182, 0.12328767, 0.27272727,\n",
       "        1.        ]])"
      ]
     },
     "execution_count": 25,
     "metadata": {},
     "output_type": "execute_result"
    }
   ],
   "source": [
    "X_train"
   ]
  },
  {
   "cell_type": "code",
   "execution_count": 26,
   "metadata": {
    "execution": {
     "iopub.execute_input": "2023-08-13T19:12:08.101421Z",
     "iopub.status.busy": "2023-08-13T19:12:08.100612Z",
     "iopub.status.idle": "2023-08-13T19:12:08.113397Z",
     "shell.execute_reply": "2023-08-13T19:12:08.112482Z",
     "shell.execute_reply.started": "2023-08-13T19:12:08.101387Z"
    }
   },
   "outputs": [
    {
     "data": {
      "text/plain": [
       "48     19999\n",
       "208    24000\n",
       "295    14999\n",
       "178    14499\n",
       "57     14499\n",
       "       ...  \n",
       "49     17999\n",
       "63      8403\n",
       "23     11195\n",
       "193    14463\n",
       "297    17700\n",
       "Name: price, Length: 82, dtype: int64"
      ]
     },
     "execution_count": 26,
     "metadata": {},
     "output_type": "execute_result"
    }
   ],
   "source": [
    "y_test"
   ]
  },
  {
   "cell_type": "code",
   "execution_count": 27,
   "metadata": {
    "execution": {
     "iopub.execute_input": "2023-08-13T19:12:08.115219Z",
     "iopub.status.busy": "2023-08-13T19:12:08.114875Z",
     "iopub.status.idle": "2023-08-13T19:12:08.689444Z",
     "shell.execute_reply": "2023-08-13T19:12:08.688175Z",
     "shell.execute_reply.started": "2023-08-13T19:12:08.115190Z"
    }
   },
   "outputs": [],
   "source": [
    "from sklearn.metrics import mean_absolute_error,mean_squared_error, r2_score\n",
    "from sklearn.ensemble import RandomForestClassifier\n",
    "model=RandomForestClassifier(n_estimators=40)\n",
    "model.fit(X_train,y_train)\n",
    "y_pred=model.predict(X_test)"
   ]
  },
  {
   "cell_type": "code",
   "execution_count": 28,
   "metadata": {
    "execution": {
     "iopub.execute_input": "2023-08-13T19:12:08.691876Z",
     "iopub.status.busy": "2023-08-13T19:12:08.691080Z",
     "iopub.status.idle": "2023-08-13T19:12:08.700220Z",
     "shell.execute_reply": "2023-08-13T19:12:08.698936Z",
     "shell.execute_reply.started": "2023-08-13T19:12:08.691829Z"
    }
   },
   "outputs": [
    {
     "data": {
      "text/plain": [
       "3382.7926829268295"
      ]
     },
     "execution_count": 28,
     "metadata": {},
     "output_type": "execute_result"
    }
   ],
   "source": [
    "mean_absolute_error(y_test,y_pred)"
   ]
  },
  {
   "cell_type": "code",
   "execution_count": 29,
   "metadata": {
    "execution": {
     "iopub.execute_input": "2023-08-13T19:12:08.701909Z",
     "iopub.status.busy": "2023-08-13T19:12:08.701603Z",
     "iopub.status.idle": "2023-08-13T19:12:08.714436Z",
     "shell.execute_reply": "2023-08-13T19:12:08.713542Z",
     "shell.execute_reply.started": "2023-08-13T19:12:08.701883Z"
    }
   },
   "outputs": [
    {
     "data": {
      "text/plain": [
       "28947076.914634146"
      ]
     },
     "execution_count": 29,
     "metadata": {},
     "output_type": "execute_result"
    }
   ],
   "source": [
    "mean_squared_error(y_test,y_pred)"
   ]
  },
  {
   "cell_type": "code",
   "execution_count": 30,
   "metadata": {
    "execution": {
     "iopub.execute_input": "2023-08-13T19:12:08.716378Z",
     "iopub.status.busy": "2023-08-13T19:12:08.715473Z",
     "iopub.status.idle": "2023-08-13T19:12:08.734445Z",
     "shell.execute_reply": "2023-08-13T19:12:08.733309Z",
     "shell.execute_reply.started": "2023-08-13T19:12:08.716344Z"
    }
   },
   "outputs": [
    {
     "data": {
      "text/plain": [
       "5380.2487781360205"
      ]
     },
     "execution_count": 30,
     "metadata": {},
     "output_type": "execute_result"
    }
   ],
   "source": [
    "np.sqrt(mean_squared_error(y_test,y_pred))"
   ]
  },
  {
   "cell_type": "code",
   "execution_count": 31,
   "metadata": {
    "execution": {
     "iopub.execute_input": "2023-08-13T19:12:08.736717Z",
     "iopub.status.busy": "2023-08-13T19:12:08.735933Z",
     "iopub.status.idle": "2023-08-13T19:12:08.750868Z",
     "shell.execute_reply": "2023-08-13T19:12:08.749705Z",
     "shell.execute_reply.started": "2023-08-13T19:12:08.736660Z"
    }
   },
   "outputs": [
    {
     "data": {
      "text/plain": [
       "0.23840475459660515"
      ]
     },
     "execution_count": 31,
     "metadata": {},
     "output_type": "execute_result"
    }
   ],
   "source": [
    "r2_score(y_test,y_pred)"
   ]
  },
  {
   "cell_type": "code",
   "execution_count": 32,
   "metadata": {
    "execution": {
     "iopub.execute_input": "2023-08-13T19:12:08.752593Z",
     "iopub.status.busy": "2023-08-13T19:12:08.752241Z",
     "iopub.status.idle": "2023-08-13T19:12:08.770153Z",
     "shell.execute_reply": "2023-08-13T19:12:08.769231Z",
     "shell.execute_reply.started": "2023-08-13T19:12:08.752556Z"
    }
   },
   "outputs": [
    {
     "data": {
      "text/plain": [
       "array([[0.73684211, 0.065     , 0.45454545, 0.06066536, 0.09090909,\n",
       "        0.66666667],\n",
       "       [0.57894737, 0.32      , 0.63636364, 0.24853229, 0.45454545,\n",
       "        0.91666667],\n",
       "       [0.78947368, 0.065     , 0.27272727, 0.06066536, 0.18181818,\n",
       "        0.5       ],\n",
       "       ...,\n",
       "       [0.63157895, 0.24      , 0.63636364, 0.24853229, 0.45454545,\n",
       "        0.66666667],\n",
       "       [0.68421053, 0.25      , 0.81818182, 0.24853229, 0.27272727,\n",
       "        0.75      ],\n",
       "       [0.68421053, 0.24      , 0.81818182, 0.12328767, 0.27272727,\n",
       "        1.        ]])"
      ]
     },
     "execution_count": 32,
     "metadata": {},
     "output_type": "execute_result"
    }
   ],
   "source": [
    "X_train"
   ]
  },
  {
   "cell_type": "code",
   "execution_count": 33,
   "metadata": {
    "execution": {
     "iopub.execute_input": "2023-08-13T19:12:26.636654Z",
     "iopub.status.busy": "2023-08-13T19:12:26.636276Z",
     "iopub.status.idle": "2023-08-13T19:12:26.652918Z",
     "shell.execute_reply": "2023-08-13T19:12:26.651686Z",
     "shell.execute_reply.started": "2023-08-13T19:12:26.636626Z"
    }
   },
   "outputs": [
    {
     "data": {
      "text/plain": [
       "array([8999], dtype=int64)"
      ]
     },
     "execution_count": 33,
     "metadata": {},
     "output_type": "execute_result"
    }
   ],
   "source": [
    "model.predict([[0.68421053, 0.065, 0.81818182, 0.12328767, 0.27272727, 0.75]])"
   ]
  },
  {
   "cell_type": "code",
   "execution_count": 34,
   "metadata": {
    "execution": {
     "iopub.execute_input": "2023-08-13T19:12:45.481114Z",
     "iopub.status.busy": "2023-08-13T19:12:45.479963Z",
     "iopub.status.idle": "2023-08-13T19:12:45.487896Z",
     "shell.execute_reply": "2023-08-13T19:12:45.486983Z",
     "shell.execute_reply.started": "2023-08-13T19:12:45.481073Z"
    }
   },
   "outputs": [
    {
     "data": {
      "text/plain": [
       "0.23840475459660515"
      ]
     },
     "execution_count": 34,
     "metadata": {},
     "output_type": "execute_result"
    }
   ],
   "source": [
    "r2_score(y_test,y_pred)"
   ]
  }
 ],
 "metadata": {
  "kernelspec": {
   "display_name": "Python 3 (ipykernel)",
   "language": "python",
   "name": "python3"
  },
  "language_info": {
   "codemirror_mode": {
    "name": "ipython",
    "version": 3
   },
   "file_extension": ".py",
   "mimetype": "text/x-python",
   "name": "python",
   "nbconvert_exporter": "python",
   "pygments_lexer": "ipython3",
   "version": "3.10.9"
  }
 },
 "nbformat": 4,
 "nbformat_minor": 4
}
